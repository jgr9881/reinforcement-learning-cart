{
 "cells": [
  {
   "cell_type": "markdown",
   "metadata": {},
   "source": [
    "REINFORCEMENT LEARNING WITH OPEN AI GYM - PROJECT"
   ]
  },
  {
   "cell_type": "markdown",
   "metadata": {},
   "source": [
    "Julien Gauthier"
   ]
  },
  {
   "cell_type": "code",
   "execution_count": null,
   "metadata": {},
   "outputs": [],
   "source": []
  }
 ],
 "metadata": {
  "language_info": {
   "name": "python"
  }
 },
 "nbformat": 4,
 "nbformat_minor": 2
}
