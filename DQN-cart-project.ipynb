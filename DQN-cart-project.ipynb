{
 "cells": [
  {
   "cell_type": "markdown",
   "metadata": {
    "vscode": {
     "languageId": "json"
    }
   },
   "source": [
    "Julien Gauthier"
   ]
  },
  {
   "cell_type": "markdown",
   "metadata": {},
   "source": [
    "# Reinforcement Learning (Deep Q) Project"
   ]
  },
  {
   "cell_type": "markdown",
   "metadata": {},
   "source": [
    "#### WARNING : install the correct versions of gym/tensorflow/keras-rl2 in a virtual environment."
   ]
  },
  {
   "cell_type": "code",
   "execution_count": 8,
   "metadata": {},
   "outputs": [
    {
     "name": "stdout",
     "output_type": "stream",
     "text": [
      "Requirement already satisfied: tensorflow==2.12.0 in c:\\users\\julie\\onedrive\\bureau\\enseeiht\\projet-perso\\reinforcement-learning-cart\\.venv\\lib\\site-packages (2.12.0)\n",
      "Requirement already satisfied: keras-rl2==1.0.5 in c:\\users\\julie\\onedrive\\bureau\\enseeiht\\projet-perso\\reinforcement-learning-cart\\.venv\\lib\\site-packages (1.0.5)\n",
      "Requirement already satisfied: gym==0.25.2 in c:\\users\\julie\\onedrive\\bureau\\enseeiht\\projet-perso\\reinforcement-learning-cart\\.venv\\lib\\site-packages (0.25.2)\n",
      "Requirement already satisfied: tensorflow-intel==2.12.0 in c:\\users\\julie\\onedrive\\bureau\\enseeiht\\projet-perso\\reinforcement-learning-cart\\.venv\\lib\\site-packages (from tensorflow==2.12.0) (2.12.0)\n",
      "Requirement already satisfied: numpy>=1.18.0 in c:\\users\\julie\\onedrive\\bureau\\enseeiht\\projet-perso\\reinforcement-learning-cart\\.venv\\lib\\site-packages (from gym==0.25.2) (1.23.5)\n",
      "Requirement already satisfied: cloudpickle>=1.2.0 in c:\\users\\julie\\onedrive\\bureau\\enseeiht\\projet-perso\\reinforcement-learning-cart\\.venv\\lib\\site-packages (from gym==0.25.2) (3.0.0)\n",
      "Requirement already satisfied: gym-notices>=0.0.4 in c:\\users\\julie\\onedrive\\bureau\\enseeiht\\projet-perso\\reinforcement-learning-cart\\.venv\\lib\\site-packages (from gym==0.25.2) (0.0.8)\n",
      "Requirement already satisfied: absl-py>=1.0.0 in c:\\users\\julie\\onedrive\\bureau\\enseeiht\\projet-perso\\reinforcement-learning-cart\\.venv\\lib\\site-packages (from tensorflow-intel==2.12.0->tensorflow==2.12.0) (2.1.0)\n",
      "Requirement already satisfied: astunparse>=1.6.0 in c:\\users\\julie\\onedrive\\bureau\\enseeiht\\projet-perso\\reinforcement-learning-cart\\.venv\\lib\\site-packages (from tensorflow-intel==2.12.0->tensorflow==2.12.0) (1.6.3)\n",
      "Requirement already satisfied: flatbuffers>=2.0 in c:\\users\\julie\\onedrive\\bureau\\enseeiht\\projet-perso\\reinforcement-learning-cart\\.venv\\lib\\site-packages (from tensorflow-intel==2.12.0->tensorflow==2.12.0) (24.3.25)\n",
      "Requirement already satisfied: gast<=0.4.0,>=0.2.1 in c:\\users\\julie\\onedrive\\bureau\\enseeiht\\projet-perso\\reinforcement-learning-cart\\.venv\\lib\\site-packages (from tensorflow-intel==2.12.0->tensorflow==2.12.0) (0.4.0)\n",
      "Requirement already satisfied: google-pasta>=0.1.1 in c:\\users\\julie\\onedrive\\bureau\\enseeiht\\projet-perso\\reinforcement-learning-cart\\.venv\\lib\\site-packages (from tensorflow-intel==2.12.0->tensorflow==2.12.0) (0.2.0)\n",
      "Requirement already satisfied: h5py>=2.9.0 in c:\\users\\julie\\onedrive\\bureau\\enseeiht\\projet-perso\\reinforcement-learning-cart\\.venv\\lib\\site-packages (from tensorflow-intel==2.12.0->tensorflow==2.12.0) (3.11.0)\n",
      "Requirement already satisfied: jax>=0.3.15 in c:\\users\\julie\\onedrive\\bureau\\enseeiht\\projet-perso\\reinforcement-learning-cart\\.venv\\lib\\site-packages (from tensorflow-intel==2.12.0->tensorflow==2.12.0) (0.4.28)\n",
      "Requirement already satisfied: libclang>=13.0.0 in c:\\users\\julie\\onedrive\\bureau\\enseeiht\\projet-perso\\reinforcement-learning-cart\\.venv\\lib\\site-packages (from tensorflow-intel==2.12.0->tensorflow==2.12.0) (18.1.1)\n",
      "Requirement already satisfied: opt-einsum>=2.3.2 in c:\\users\\julie\\onedrive\\bureau\\enseeiht\\projet-perso\\reinforcement-learning-cart\\.venv\\lib\\site-packages (from tensorflow-intel==2.12.0->tensorflow==2.12.0) (3.3.0)\n",
      "Requirement already satisfied: packaging in c:\\users\\julie\\onedrive\\bureau\\enseeiht\\projet-perso\\reinforcement-learning-cart\\.venv\\lib\\site-packages (from tensorflow-intel==2.12.0->tensorflow==2.12.0) (24.0)\n",
      "Requirement already satisfied: protobuf!=4.21.0,!=4.21.1,!=4.21.2,!=4.21.3,!=4.21.4,!=4.21.5,<5.0.0dev,>=3.20.3 in c:\\users\\julie\\onedrive\\bureau\\enseeiht\\projet-perso\\reinforcement-learning-cart\\.venv\\lib\\site-packages (from tensorflow-intel==2.12.0->tensorflow==2.12.0) (4.25.3)\n",
      "Requirement already satisfied: setuptools in c:\\users\\julie\\onedrive\\bureau\\enseeiht\\projet-perso\\reinforcement-learning-cart\\.venv\\lib\\site-packages (from tensorflow-intel==2.12.0->tensorflow==2.12.0) (65.5.0)\n",
      "Requirement already satisfied: six>=1.12.0 in c:\\users\\julie\\onedrive\\bureau\\enseeiht\\projet-perso\\reinforcement-learning-cart\\.venv\\lib\\site-packages (from tensorflow-intel==2.12.0->tensorflow==2.12.0) (1.16.0)\n",
      "Requirement already satisfied: termcolor>=1.1.0 in c:\\users\\julie\\onedrive\\bureau\\enseeiht\\projet-perso\\reinforcement-learning-cart\\.venv\\lib\\site-packages (from tensorflow-intel==2.12.0->tensorflow==2.12.0) (2.4.0)\n",
      "Requirement already satisfied: typing-extensions>=3.6.6 in c:\\users\\julie\\onedrive\\bureau\\enseeiht\\projet-perso\\reinforcement-learning-cart\\.venv\\lib\\site-packages (from tensorflow-intel==2.12.0->tensorflow==2.12.0) (4.11.0)\n",
      "Requirement already satisfied: wrapt<1.15,>=1.11.0 in c:\\users\\julie\\onedrive\\bureau\\enseeiht\\projet-perso\\reinforcement-learning-cart\\.venv\\lib\\site-packages (from tensorflow-intel==2.12.0->tensorflow==2.12.0) (1.14.1)\n",
      "Requirement already satisfied: grpcio<2.0,>=1.24.3 in c:\\users\\julie\\onedrive\\bureau\\enseeiht\\projet-perso\\reinforcement-learning-cart\\.venv\\lib\\site-packages (from tensorflow-intel==2.12.0->tensorflow==2.12.0) (1.64.0)\n",
      "Requirement already satisfied: tensorboard<2.13,>=2.12 in c:\\users\\julie\\onedrive\\bureau\\enseeiht\\projet-perso\\reinforcement-learning-cart\\.venv\\lib\\site-packages (from tensorflow-intel==2.12.0->tensorflow==2.12.0) (2.12.3)\n",
      "Requirement already satisfied: tensorflow-estimator<2.13,>=2.12.0 in c:\\users\\julie\\onedrive\\bureau\\enseeiht\\projet-perso\\reinforcement-learning-cart\\.venv\\lib\\site-packages (from tensorflow-intel==2.12.0->tensorflow==2.12.0) (2.12.0)\n",
      "Requirement already satisfied: keras<2.13,>=2.12.0 in c:\\users\\julie\\onedrive\\bureau\\enseeiht\\projet-perso\\reinforcement-learning-cart\\.venv\\lib\\site-packages (from tensorflow-intel==2.12.0->tensorflow==2.12.0) (2.12.0)\n",
      "Requirement already satisfied: tensorflow-io-gcs-filesystem>=0.23.1 in c:\\users\\julie\\onedrive\\bureau\\enseeiht\\projet-perso\\reinforcement-learning-cart\\.venv\\lib\\site-packages (from tensorflow-intel==2.12.0->tensorflow==2.12.0) (0.31.0)\n",
      "Requirement already satisfied: wheel<1.0,>=0.23.0 in c:\\users\\julie\\onedrive\\bureau\\enseeiht\\projet-perso\\reinforcement-learning-cart\\.venv\\lib\\site-packages (from astunparse>=1.6.0->tensorflow-intel==2.12.0->tensorflow==2.12.0) (0.43.0)\n",
      "Requirement already satisfied: ml-dtypes>=0.2.0 in c:\\users\\julie\\onedrive\\bureau\\enseeiht\\projet-perso\\reinforcement-learning-cart\\.venv\\lib\\site-packages (from jax>=0.3.15->tensorflow-intel==2.12.0->tensorflow==2.12.0) (0.4.0)\n",
      "Requirement already satisfied: scipy>=1.9 in c:\\users\\julie\\onedrive\\bureau\\enseeiht\\projet-perso\\reinforcement-learning-cart\\.venv\\lib\\site-packages (from jax>=0.3.15->tensorflow-intel==2.12.0->tensorflow==2.12.0) (1.13.0)\n",
      "Requirement already satisfied: google-auth<3,>=1.6.3 in c:\\users\\julie\\onedrive\\bureau\\enseeiht\\projet-perso\\reinforcement-learning-cart\\.venv\\lib\\site-packages (from tensorboard<2.13,>=2.12->tensorflow-intel==2.12.0->tensorflow==2.12.0) (2.29.0)\n",
      "Requirement already satisfied: google-auth-oauthlib<1.1,>=0.5 in c:\\users\\julie\\onedrive\\bureau\\enseeiht\\projet-perso\\reinforcement-learning-cart\\.venv\\lib\\site-packages (from tensorboard<2.13,>=2.12->tensorflow-intel==2.12.0->tensorflow==2.12.0) (1.0.0)\n",
      "Requirement already satisfied: markdown>=2.6.8 in c:\\users\\julie\\onedrive\\bureau\\enseeiht\\projet-perso\\reinforcement-learning-cart\\.venv\\lib\\site-packages (from tensorboard<2.13,>=2.12->tensorflow-intel==2.12.0->tensorflow==2.12.0) (3.6)\n",
      "Requirement already satisfied: requests<3,>=2.21.0 in c:\\users\\julie\\onedrive\\bureau\\enseeiht\\projet-perso\\reinforcement-learning-cart\\.venv\\lib\\site-packages (from tensorboard<2.13,>=2.12->tensorflow-intel==2.12.0->tensorflow==2.12.0) (2.32.2)\n",
      "Requirement already satisfied: tensorboard-data-server<0.8.0,>=0.7.0 in c:\\users\\julie\\onedrive\\bureau\\enseeiht\\projet-perso\\reinforcement-learning-cart\\.venv\\lib\\site-packages (from tensorboard<2.13,>=2.12->tensorflow-intel==2.12.0->tensorflow==2.12.0) (0.7.2)\n",
      "Requirement already satisfied: werkzeug>=1.0.1 in c:\\users\\julie\\onedrive\\bureau\\enseeiht\\projet-perso\\reinforcement-learning-cart\\.venv\\lib\\site-packages (from tensorboard<2.13,>=2.12->tensorflow-intel==2.12.0->tensorflow==2.12.0) (3.0.3)\n",
      "Requirement already satisfied: cachetools<6.0,>=2.0.0 in c:\\users\\julie\\onedrive\\bureau\\enseeiht\\projet-perso\\reinforcement-learning-cart\\.venv\\lib\\site-packages (from google-auth<3,>=1.6.3->tensorboard<2.13,>=2.12->tensorflow-intel==2.12.0->tensorflow==2.12.0) (5.3.3)\n",
      "Requirement already satisfied: pyasn1-modules>=0.2.1 in c:\\users\\julie\\onedrive\\bureau\\enseeiht\\projet-perso\\reinforcement-learning-cart\\.venv\\lib\\site-packages (from google-auth<3,>=1.6.3->tensorboard<2.13,>=2.12->tensorflow-intel==2.12.0->tensorflow==2.12.0) (0.4.0)\n",
      "Requirement already satisfied: rsa<5,>=3.1.4 in c:\\users\\julie\\onedrive\\bureau\\enseeiht\\projet-perso\\reinforcement-learning-cart\\.venv\\lib\\site-packages (from google-auth<3,>=1.6.3->tensorboard<2.13,>=2.12->tensorflow-intel==2.12.0->tensorflow==2.12.0) (4.9)\n",
      "Requirement already satisfied: requests-oauthlib>=0.7.0 in c:\\users\\julie\\onedrive\\bureau\\enseeiht\\projet-perso\\reinforcement-learning-cart\\.venv\\lib\\site-packages (from google-auth-oauthlib<1.1,>=0.5->tensorboard<2.13,>=2.12->tensorflow-intel==2.12.0->tensorflow==2.12.0) (2.0.0)\n",
      "Requirement already satisfied: charset-normalizer<4,>=2 in c:\\users\\julie\\onedrive\\bureau\\enseeiht\\projet-perso\\reinforcement-learning-cart\\.venv\\lib\\site-packages (from requests<3,>=2.21.0->tensorboard<2.13,>=2.12->tensorflow-intel==2.12.0->tensorflow==2.12.0) (3.3.2)\n",
      "Requirement already satisfied: idna<4,>=2.5 in c:\\users\\julie\\onedrive\\bureau\\enseeiht\\projet-perso\\reinforcement-learning-cart\\.venv\\lib\\site-packages (from requests<3,>=2.21.0->tensorboard<2.13,>=2.12->tensorflow-intel==2.12.0->tensorflow==2.12.0) (3.7)\n",
      "Requirement already satisfied: urllib3<3,>=1.21.1 in c:\\users\\julie\\onedrive\\bureau\\enseeiht\\projet-perso\\reinforcement-learning-cart\\.venv\\lib\\site-packages (from requests<3,>=2.21.0->tensorboard<2.13,>=2.12->tensorflow-intel==2.12.0->tensorflow==2.12.0) (2.2.1)\n",
      "Requirement already satisfied: certifi>=2017.4.17 in c:\\users\\julie\\onedrive\\bureau\\enseeiht\\projet-perso\\reinforcement-learning-cart\\.venv\\lib\\site-packages (from requests<3,>=2.21.0->tensorboard<2.13,>=2.12->tensorflow-intel==2.12.0->tensorflow==2.12.0) (2024.2.2)\n",
      "Requirement already satisfied: MarkupSafe>=2.1.1 in c:\\users\\julie\\onedrive\\bureau\\enseeiht\\projet-perso\\reinforcement-learning-cart\\.venv\\lib\\site-packages (from werkzeug>=1.0.1->tensorboard<2.13,>=2.12->tensorflow-intel==2.12.0->tensorflow==2.12.0) (2.1.5)\n",
      "Requirement already satisfied: pyasn1<0.7.0,>=0.4.6 in c:\\users\\julie\\onedrive\\bureau\\enseeiht\\projet-perso\\reinforcement-learning-cart\\.venv\\lib\\site-packages (from pyasn1-modules>=0.2.1->google-auth<3,>=1.6.3->tensorboard<2.13,>=2.12->tensorflow-intel==2.12.0->tensorflow==2.12.0) (0.6.0)\n",
      "Requirement already satisfied: oauthlib>=3.0.0 in c:\\users\\julie\\onedrive\\bureau\\enseeiht\\projet-perso\\reinforcement-learning-cart\\.venv\\lib\\site-packages (from requests-oauthlib>=0.7.0->google-auth-oauthlib<1.1,>=0.5->tensorboard<2.13,>=2.12->tensorflow-intel==2.12.0->tensorflow==2.12.0) (3.2.2)\n"
     ]
    }
   ],
   "source": [
    "# These are the correct versions for this project to work :\n",
    "!pip install tensorflow==2.12.0 keras-rl2==1.0.5 gym==0.25.2"
   ]
  },
  {
   "cell_type": "markdown",
   "metadata": {},
   "source": [
    "### I. Setting up the OpenAI Cart Pole environment"
   ]
  },
  {
   "cell_type": "code",
   "execution_count": 1,
   "metadata": {},
   "outputs": [],
   "source": [
    "import gym\n",
    "import random"
   ]
  },
  {
   "cell_type": "markdown",
   "metadata": {},
   "source": [
    "The environment is where the experiment takes place, the states are the different input parameters (in this case : cart position, cart velocity, pole angle, pole tip velocity) and the actions are the output possibilities (move the cart left or right)."
   ]
  },
  {
   "cell_type": "code",
   "execution_count": 2,
   "metadata": {},
   "outputs": [
    {
     "name": "stderr",
     "output_type": "stream",
     "text": [
      "c:\\Users\\julie\\OneDrive\\Bureau\\ENSEEIHT\\projet-perso\\reinforcement-learning-cart\\.venv\\Lib\\site-packages\\gym\\core.py:317: DeprecationWarning: \u001b[33mWARN: Initializing wrapper in old step API which returns one bool instead of two. It is recommended to set `new_step_api=True` to use new step API. This will be the default behaviour in future.\u001b[0m\n",
      "  deprecation(\n",
      "c:\\Users\\julie\\OneDrive\\Bureau\\ENSEEIHT\\projet-perso\\reinforcement-learning-cart\\.venv\\Lib\\site-packages\\gym\\wrappers\\step_api_compatibility.py:39: DeprecationWarning: \u001b[33mWARN: Initializing environment in old step API which returns one bool instead of two. It is recommended to set `new_step_api=True` to use new step API. This will be the default behaviour in future.\u001b[0m\n",
      "  deprecation(\n"
     ]
    }
   ],
   "source": [
    "env = gym.make(\"CartPole-v1\", render_mode=\"human\")\n",
    "states = env.observation_space.shape[0]\n",
    "actions = env.action_space.n"
   ]
  },
  {
   "cell_type": "markdown",
   "metadata": {},
   "source": [
    "Testing the environment with random actions."
   ]
  },
  {
   "cell_type": "code",
   "execution_count": 24,
   "metadata": {},
   "outputs": [
    {
     "name": "stderr",
     "output_type": "stream",
     "text": [
      "c:\\Users\\julie\\OneDrive\\Bureau\\ENSEEIHT\\projet-perso\\reinforcement-learning-cart\\.venv\\Lib\\site-packages\\gym\\utils\\passive_env_checker.py:233: DeprecationWarning: `np.bool8` is a deprecated alias for `np.bool_`.  (Deprecated NumPy 1.24)\n",
      "  if not isinstance(terminated, (bool, np.bool8)):\n"
     ]
    },
    {
     "name": "stdout",
     "output_type": "stream",
     "text": [
      "Episode:1 Score:13.0\n",
      "Episode:2 Score:12.0\n",
      "Episode:3 Score:23.0\n",
      "Episode:4 Score:23.0\n",
      "Episode:5 Score:19.0\n",
      "Episode:6 Score:18.0\n",
      "Episode:7 Score:11.0\n",
      "Episode:8 Score:10.0\n",
      "Episode:9 Score:14.0\n",
      "Episode:10 Score:14.0\n"
     ]
    }
   ],
   "source": [
    "episodes = 10\n",
    "for episode in range(1, episodes + 1) :\n",
    "    state = env.reset()\n",
    "    score = 0\n",
    "    done = False\n",
    "    \n",
    "    while not done :\n",
    "        env.render()\n",
    "        action = random.choice([0, 1])\n",
    "        next_state, reward, done, info = env.step(action)[:-1] # The last element is useless.\n",
    "        score+=reward\n",
    "    print('Episode:{} Score:{}'.format(episode, score))\n",
    "env.close()"
   ]
  },
  {
   "cell_type": "markdown",
   "metadata": {},
   "source": [
    "### II. Deep Learning model with Keras."
   ]
  },
  {
   "cell_type": "code",
   "execution_count": 3,
   "metadata": {},
   "outputs": [
    {
     "name": "stderr",
     "output_type": "stream",
     "text": [
      "c:\\Users\\julie\\OneDrive\\Bureau\\ENSEEIHT\\projet-perso\\reinforcement-learning-cart\\.venv\\Lib\\site-packages\\tensorflow\\python\\debug\\cli\\debugger_cli_common.py:19: DeprecationWarning: module 'sre_constants' is deprecated\n",
      "  import sre_constants\n"
     ]
    }
   ],
   "source": [
    "import numpy as np\n",
    "import tensorflow as tf\n",
    "from tensorflow import keras\n",
    "from keras.models import Sequential\n",
    "from keras.layers import Dense, Flatten\n",
    "from keras.optimizers import Adam"
   ]
  },
  {
   "cell_type": "markdown",
   "metadata": {},
   "source": [
    "Let's create a function that will build our model."
   ]
  },
  {
   "cell_type": "code",
   "execution_count": 4,
   "metadata": {},
   "outputs": [],
   "source": [
    "def build_model(states, actions) :\n",
    "    model = Sequential()\n",
    "    model.add(Flatten(input_shape=(1, states)))\n",
    "    model.add(Dense(24, activation='relu'))\n",
    "    model.add(Dense(24, activation='relu'))\n",
    "    model.add(Dense(actions, activation='linear'))\n",
    "    return model"
   ]
  },
  {
   "cell_type": "markdown",
   "metadata": {},
   "source": [
    "We can now use our function to create and show an instance of the model :"
   ]
  },
  {
   "cell_type": "code",
   "execution_count": 5,
   "metadata": {},
   "outputs": [
    {
     "name": "stdout",
     "output_type": "stream",
     "text": [
      "Model: \"sequential\"\n",
      "_________________________________________________________________\n",
      " Layer (type)                Output Shape              Param #   \n",
      "=================================================================\n",
      " flatten (Flatten)           (None, 4)                 0         \n",
      "                                                                 \n",
      " dense (Dense)               (None, 24)                120       \n",
      "                                                                 \n",
      " dense_1 (Dense)             (None, 24)                600       \n",
      "                                                                 \n",
      " dense_2 (Dense)             (None, 2)                 50        \n",
      "                                                                 \n",
      "=================================================================\n",
      "Total params: 770\n",
      "Trainable params: 770\n",
      "Non-trainable params: 0\n",
      "_________________________________________________________________\n"
     ]
    }
   ],
   "source": [
    "model = build_model(states, actions)\n",
    "model.summary()"
   ]
  },
  {
   "cell_type": "markdown",
   "metadata": {},
   "source": [
    "### III. Agent creation with Keras-RL"
   ]
  },
  {
   "cell_type": "code",
   "execution_count": 7,
   "metadata": {},
   "outputs": [],
   "source": [
    "from rl.agents import DQNAgent\n",
    "from rl.policy import BoltzmannQPolicy\n",
    "from rl.memory import SequentialMemory"
   ]
  }
 ],
 "metadata": {
  "kernelspec": {
   "display_name": "Python 3",
   "language": "python",
   "name": "python3"
  },
  "language_info": {
   "codemirror_mode": {
    "name": "ipython",
    "version": 3
   },
   "file_extension": ".py",
   "mimetype": "text/x-python",
   "name": "python",
   "nbconvert_exporter": "python",
   "pygments_lexer": "ipython3",
   "version": "3.11.3"
  }
 },
 "nbformat": 4,
 "nbformat_minor": 2
}
